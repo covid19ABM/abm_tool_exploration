{
 "cells": [
  {
   "attachments": {},
   "cell_type": "markdown",
   "metadata": {},
   "source": [
    "# Explore the functionalities of agentpy in the context of the Schelling model\n",
    "\n",
    "This example is taken from the [unisa github](https://github.com/isislab-unisa/ABM_Comparison/blob/main/AgentPy/schelling.py). Note that agentpy cannot integrate GIS info, contrarily to mesa, and so this is already a difference."
   ]
  },
  {
   "cell_type": "code",
   "execution_count": 1,
   "metadata": {},
   "outputs": [],
   "source": [
    "import agentpy as ap"
   ]
  },
  {
   "cell_type": "code",
   "execution_count": 2,
   "metadata": {},
   "outputs": [],
   "source": [
    "# Visualization\n",
    "import matplotlib.pyplot as plt\n",
    "import seaborn as sns\n",
    "import IPython"
   ]
  },
  {
   "attachments": {},
   "cell_type": "markdown",
   "metadata": {},
   "source": [
    "### Define the agent"
   ]
  },
  {
   "cell_type": "code",
   "execution_count": 4,
   "metadata": {},
   "outputs": [],
   "source": [
    "class Person(ap.Agent):\n",
    "\n",
    "    def setup(self):\n",
    "        \"\"\" Initiate agent attributes. \"\"\"\n",
    "        self.grid = self.model.grid\n",
    "        self.random = self.model.random\n",
    "        self.group = self.random.choice(range(self.p.n_groups))\n",
    "        self.share_similar = 0\n",
    "        self.happy = False\n",
    "\n",
    "    def update_happiness(self):\n",
    "        \"\"\" Be happy if rate of similar neighbors is high enough. \"\"\"\n",
    "        neighbors = self.grid.neighbors(self)\n",
    "        similar = len([n for n in neighbors if n.group == self.group])\n",
    "        ln = len(neighbors)\n",
    "        self.share_similar = similar / ln if ln > 0 else 0\n",
    "        self.happy = self.share_similar >= self.p.want_similar\n",
    "\n",
    "    def find_new_home(self):\n",
    "        \"\"\" Move to random free spot and update free spots. \"\"\"\n",
    "        new_spot = self.random.choice(self.model.grid.empty)\n",
    "        self.grid.move_to(self, new_spot)"
   ]
  },
  {
   "attachments": {},
   "cell_type": "markdown",
   "metadata": {},
   "source": [
    "### Define the model"
   ]
  },
  {
   "cell_type": "code",
   "execution_count": 5,
   "metadata": {},
   "outputs": [],
   "source": [
    "class SegregationModel(ap.Model):\n",
    "\n",
    "    def setup(self):\n",
    "\n",
    "        # Parameters\n",
    "        s = self.p.size\n",
    "        n = self.n = int(self.p.density * (s ** 2))\n",
    "\n",
    "        # Create grid and agents\n",
    "        self.grid = ap.Grid(self, (s, s), track_empty=True)\n",
    "        self.agents = ap.AgentList(self, n, Person)\n",
    "        self.grid.add_agents(self.agents, random=True, empty=True)\n",
    "\n",
    "    def update(self):\n",
    "        # Update list of unhappy people\n",
    "        self.agents.update_happiness()\n",
    "        self.unhappy = self.agents.select(self.agents.happy == False)\n",
    "\n",
    "        # Stop simulation if all are happy\n",
    "        if len(self.unhappy) == 0:\n",
    "            self.stop()\n",
    "\n",
    "    def step(self):\n",
    "        # Move unhappy people to new location\n",
    "        self.unhappy.find_new_home()\n",
    "\n",
    "    def get_segregation(self):\n",
    "        # Calculate average percentage of similar neighbors\n",
    "        return round(sum(self.agents.share_similar) / self.n, 2)\n",
    "\n",
    "    def end(self):\n",
    "        # Measure segregation at the end of the simulation\n",
    "        self.report('segregation', self.get_segregation())"
   ]
  },
  {
   "attachments": {},
   "cell_type": "markdown",
   "metadata": {},
   "source": [
    "### Run the model"
   ]
  },
  {
   "cell_type": "code",
   "execution_count": 6,
   "metadata": {},
   "outputs": [],
   "source": [
    "parameters = {\n",
    "    'want_similar': 0.3, # For agents to be happy\n",
    "    'n_groups': 2, # Number of groups\n",
    "    'density': 0.7, # Density of population\n",
    "    'size': 1131, # Height and length of the grid\n",
    "    'steps': 200  # Maximum number of steps\n",
    "    }"
   ]
  },
  {
   "cell_type": "code",
   "execution_count": 7,
   "metadata": {},
   "outputs": [
    {
     "name": "stdout",
     "output_type": "stream",
     "text": [
      "Scheduled runs: 1\n",
      "Completed: 1, estimated time remaining: 0:00:00\n",
      "Experiment finished\n",
      "Run time: 0:02:40.921552\n"
     ]
    }
   ],
   "source": [
    "exp = ap.Experiment(SegregationModel, parameters, iterations=1, randomize=True)\n",
    "results = exp.run()"
   ]
  },
  {
   "cell_type": "code",
   "execution_count": 9,
   "metadata": {},
   "outputs": [
    {
     "data": {
      "text/plain": [
       "dict_keys(['info', 'parameters', 'reporters'])"
      ]
     },
     "execution_count": 9,
     "metadata": {},
     "output_type": "execute_result"
    }
   ],
   "source": [
    "results.keys()"
   ]
  },
  {
   "cell_type": "code",
   "execution_count": 10,
   "metadata": {},
   "outputs": [
    {
     "data": {
      "text/plain": [
       "{'model_type': 'SegregationModel',\n",
       " 'time_stamp': '2023-02-23 15:11:46.891384',\n",
       " 'agentpy_version': '0.1.5',\n",
       " 'python_version': '3.9.1',\n",
       " 'experiment': True,\n",
       " 'scheduled_runs': 1,\n",
       " 'completed': True,\n",
       " 'random': True,\n",
       " 'record': False,\n",
       " 'sample_size': 1,\n",
       " 'iterations': 1,\n",
       " 'run_time': '0:02:40.921552'}"
      ]
     },
     "execution_count": 10,
     "metadata": {},
     "output_type": "execute_result"
    }
   ],
   "source": [
    "results['info']"
   ]
  },
  {
   "cell_type": "code",
   "execution_count": null,
   "metadata": {},
   "outputs": [],
   "source": []
  }
 ],
 "metadata": {
  "kernelspec": {
   "display_name": "py39",
   "language": "python",
   "name": "python3"
  },
  "language_info": {
   "codemirror_mode": {
    "name": "ipython",
    "version": 3
   },
   "file_extension": ".py",
   "mimetype": "text/x-python",
   "name": "python",
   "nbconvert_exporter": "python",
   "pygments_lexer": "ipython3",
   "version": "3.9.16 | packaged by conda-forge | (main, Feb  1 2023, 21:38:11) \n[Clang 14.0.6 ]"
  },
  "orig_nbformat": 4,
  "vscode": {
   "interpreter": {
    "hash": "eab53f47a5991271b37a25f4d843b5ee35e6204ffc43d80f9b0bcdaa784de0c5"
   }
  }
 },
 "nbformat": 4,
 "nbformat_minor": 2
}
