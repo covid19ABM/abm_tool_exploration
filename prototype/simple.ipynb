{
 "cells": [
  {
   "attachments": {},
   "cell_type": "markdown",
   "metadata": {},
   "source": [
    "## Playground for an ABM prototype"
   ]
  },
  {
   "cell_type": "code",
   "execution_count": 1,
   "metadata": {},
   "outputs": [],
   "source": [
    "import agent as ag\n",
    "import numpy as np\n",
    "# Model design\n",
    "import random\n",
    "\n",
    "# Visualization\n",
    "import matplotlib.pyplot as plt\n",
    "import seaborn as sns\n",
    "import IPython\n"
   ]
  },
  {
   "cell_type": "code",
   "execution_count": 8,
   "metadata": {},
   "outputs": [],
   "source": [
    "n_people = 10\n",
    "gd = ag.generate_gender_distribution(n_people=n_people, percentage=50)\n",
    "ad = ag.generate_age_distribution(n_people=n_people, n_age_groups=4, start=24, stop=65, percentage=[.25, .23, .31, .21])\n",
    "\n",
    "people = []\n",
    "for i in range(n_people):\n",
    "    features = ag.Features(str(i),\n",
    "                        gd[i], \n",
    "                        ad[i], \n",
    "                        \"low\", \n",
    "                        \"True\", \n",
    "                        \"Single\", \n",
    "                        \"False\", \n",
    "                        \"True\", \n",
    "                        \"True\", \n",
    "                        \"False\", \n",
    "                        \"True\", \n",
    "                        \"True\", \n",
    "                        \"False\", \n",
    "                        \"True\", \n",
    "                        \"False\", \n",
    "                        \"False\", \n",
    "                        \"False\")\n",
    "    people.append(ag.Agent(features=features))\n",
    "    \n",
    "    "
   ]
  },
  {
   "cell_type": "code",
   "execution_count": 5,
   "metadata": {},
   "outputs": [
    {
     "name": "stdout",
     "output_type": "stream",
     "text": [
      "name: 0\n",
      "gender: 0\n",
      "age: 46\n",
      "education: low\n",
      "employed: True\n",
      "partnership_status: Single\n",
      "pre_existing_depression: False\n",
      "pre_existing_burnout: True\n",
      "pre_existing_addiction: True\n",
      "pre_existing_chronic_fatigue: False\n",
      "parenthood: True\n",
      "living_with_child: True\n",
      "single_parent: False\n",
      "housing_difficulties: True\n",
      "finance_difficulties: False\n",
      "pre_existing_health_issues: False\n",
      "partner_difficulties: False\n",
      "n_contacts: 0\n"
     ]
    }
   ],
   "source": [
    "people[0].summary()"
   ]
  },
  {
   "cell_type": "code",
   "execution_count": 9,
   "metadata": {},
   "outputs": [
    {
     "name": "stdout",
     "output_type": "stream",
     "text": [
      "name:0, gender:1, age: 24\n",
      "name:1, gender:1, age: 64\n",
      "name:2, gender:0, age: 30\n",
      "name:3, gender:1, age: 47\n",
      "name:4, gender:0, age: 48\n",
      "name:5, gender:0, age: 27\n",
      "name:6, gender:0, age: 54\n",
      "name:7, gender:1, age: 62\n",
      "name:8, gender:0, age: 45\n",
      "name:9, gender:1, age: 48\n"
     ]
    }
   ],
   "source": [
    "for p in people:\n",
    "    print(f'name:{p.features.name}, gender:{p.features.gender}, age: {p.features.age}')\n"
   ]
  },
  {
   "cell_type": "code",
   "execution_count": null,
   "metadata": {},
   "outputs": [],
   "source": [
    "@dataclass\n",
    "class Lockdown():\n",
    "    ''' Represents the type of lockdown'''\n",
    "    __slots__ = ['name', 'frequency', 'length', 'severity']\n",
    "    \n",
    "    name: str\n",
    "    frequency: float\n",
    "    start: float\n",
    "    end: float\n",
    "    severity: int    "
   ]
  },
  {
   "cell_type": "code",
   "execution_count": 12,
   "metadata": {},
   "outputs": [],
   "source": [
    "person1 = Agent(\"a\",\"F\", 18, \"low\", \"True\", \"Single\", \"False\", \"True\", \"True\", \"False\", \"True\", \"True\", \"False\", \"True\", \"False\", \"False\", \"False\")\n"
   ]
  },
  {
   "cell_type": "code",
   "execution_count": 6,
   "metadata": {},
   "outputs": [
    {
     "data": {
      "text/plain": [
       "18"
      ]
     },
     "execution_count": 6,
     "metadata": {},
     "output_type": "execute_result"
    }
   ],
   "source": [
    "person.age"
   ]
  },
  {
   "cell_type": "code",
   "execution_count": 53,
   "metadata": {},
   "outputs": [],
   "source": [
    "\n",
    "class Agent():\n",
    "    ''' Represents an agent in our small world '''\n",
    "    \n",
    "    def __init__(self, condition, age, mental_state):\n",
    "        ''' Initialisation '''\n",
    "        self.condition = condition\n",
    "        self.age = age\n",
    "        self.mental_state = mental_state    \n",
    "   \n",
    "    def becoming_positive(self):\n",
    "        ''' Agent has tested positive '''\n",
    "        self.condition = 1\n",
    "        self.mental_state =+ np.random.rand()\n",
    "    \n",
    "    def working_from_home(self):\n",
    "        ''' Agent is working from home '''\n",
    "        self.mental_state =+ np.random.rand()\n",
    "    \n",
    "   \n",
    "class Simulation():\n",
    "    def __init__(self,n_people,n_steps,p):\n",
    "        conditions = np.random.randint(2,size=n_people)\n",
    "        ages = np.random.choice(np.arange(18,60),size=n_people)\n",
    "        mental_states = np.random.randint(2,size=n_people)\n",
    "        \n",
    "        self.agents = []\n",
    "        for i in range(n_people):\n",
    "            self.agents.append(Agent(condition=0,#conditions[i],\n",
    "                                     age=ages[i],\n",
    "                                     mental_state=mental_states[i]))\n",
    "        self.n_steps = n_steps\n",
    "        self.n_people = n_people\n",
    "        self.p = p\n",
    "        \n",
    "    def update(self,p):\n",
    "        infected = np.random.choice(np.arange(self.n_people),size=int(p*self.n_people))\n",
    "        for i in infected:\n",
    "            self.agents[i].becoming_positive()\n",
    "            \n",
    "    def monitor_mh_average(self):\n",
    "        mh = [i.mental_state for i in self.agents]\n",
    "        \n",
    "        return np.mean(mh)\n",
    "        \n",
    "        \n",
    "    def run(self):\n",
    "        avg_mh = np.zeros(self.n_steps)\n",
    "        for step in range(self.n_steps):\n",
    "            self.update(self.p)\n",
    "            avg_mh[step] = self.monitor_mh_average()\n",
    "            \n",
    "        return avg_mh\n",
    "            \n",
    "            \n",
    "        \n",
    "            \n",
    "    \n",
    "    \n",
    "        \n",
    "        \n",
    "        \n"
   ]
  },
  {
   "cell_type": "code",
   "execution_count": 56,
   "metadata": {},
   "outputs": [],
   "source": [
    "model = Simulation(n_people=1000,\n",
    "                   n_steps=50,\n",
    "                   p=0.1)\n",
    "\n",
    "mh = model.run()"
   ]
  },
  {
   "cell_type": "code",
   "execution_count": 57,
   "metadata": {},
   "outputs": [
    {
     "data": {
      "text/plain": [
       "[<matplotlib.lines.Line2D at 0x143811ee0>]"
      ]
     },
     "execution_count": 57,
     "metadata": {},
     "output_type": "execute_result"
    },
    {
     "data": {
      "image/png": "[encoded data removed]",
      "text/plain": [
       "<Figure size 640x480 with 1 Axes>"
      ]
     },
     "metadata": {},
     "output_type": "display_data"
    }
   ],
   "source": [
    "plt.plot(mh)"
   ]
  },
  {
   "cell_type": "code",
   "execution_count": 24,
   "metadata": {},
   "outputs": [
    {
     "name": "stdout",
     "output_type": "stream",
     "text": [
      "\u001b[0;31mInit signature:\u001b[0m \u001b[0map\u001b[0m\u001b[0;34m.\u001b[0m\u001b[0mModel\u001b[0m\u001b[0;34m(\u001b[0m\u001b[0mparameters\u001b[0m\u001b[0;34m=\u001b[0m\u001b[0;32mNone\u001b[0m\u001b[0;34m,\u001b[0m \u001b[0m_run_id\u001b[0m\u001b[0;34m=\u001b[0m\u001b[0;32mNone\u001b[0m\u001b[0;34m,\u001b[0m \u001b[0;34m**\u001b[0m\u001b[0mkwargs\u001b[0m\u001b[0;34m)\u001b[0m\u001b[0;34m\u001b[0m\u001b[0;34m\u001b[0m\u001b[0m\n",
      "\u001b[0;31mDocstring:\u001b[0m     \n",
      "Template of an agent-based model.\n",
      "\n",
      "Arguments:\n",
      "    parameters (dict, optional):\n",
      "        Dictionary of the model's parameters.\n",
      "        Default values will be selected from entries of type\n",
      "        :class:`Range`, :class:`IntRange`, and :class:`Values`.\n",
      "        The following parameters will be used automatically:\n",
      "\n",
      "        - steps (int, optional):\n",
      "          Defines the maximum number of time-steps.\n",
      "          If none is passed, there will be no step limit.\n",
      "        - seed (int, optional):\n",
      "          Used to initiate the model's random number generators.\n",
      "          If none is passed, a random seed will be generated.\n",
      "        - report_seed (bool, optional):\n",
      "          Whether to document the random seed used (default True).\n",
      "\n",
      "    **kwargs: Will be forwarded to :func:`Model.setup`.\n",
      "\n",
      "Attributes:\n",
      "    type (str): The model's class name.\n",
      "    info (InfoStr): Information about the model's current state.\n",
      "    p (AttrDict): The model's parameters.\n",
      "    t (int): Current time-step of the model.\n",
      "    id (int): The model's object id, which will always be zero.\n",
      "    random (random.Random): Random number generator.\n",
      "    nprandom (numpy.random.Generator): Numpy random number generator.\n",
      "    var_keys (list): Names of the model's custom variables.\n",
      "    running (bool): Indicates whether the model is currently running.\n",
      "    log (dict): The model's recorded variables.\n",
      "    reporters (dict): The model's documented reporters.\n",
      "    output (DataDict): Output data after a completed simulation.\n",
      "\n",
      "Examples:\n",
      "\n",
      "    To define a custom model with a custom agent type::\n",
      "\n",
      "        class MyAgent(ap.Agent):\n",
      "\n",
      "            def setup(self):\n",
      "                # Initialize an attribute with a parameter\n",
      "                self.my_attribute = self.p.my_parameter\n",
      "\n",
      "            def agent_method(self):\n",
      "                # Define custom actions here\n",
      "                pass\n",
      "\n",
      "        class MyModel(ap.Model):\n",
      "\n",
      "            def setup(self):\n",
      "                # Called at the start of the simulation\n",
      "                self.agents = ap.AgentList(self, self.p.agents, MyAgent)\n",
      "\n",
      "            def step(self):\n",
      "                # Called at every simulation step\n",
      "                self.agents.agent_method()  # Call a method for every agent\n",
      "\n",
      "            def update(self):\n",
      "                # Called after setup as well as after each step\n",
      "                self.agents.record('my_attribute')  # Record variable\n",
      "\n",
      "            def end(self):\n",
      "                # Called at the end of the simulation\n",
      "                self.report('my_reporter', 1)  # Report a simulation result\n",
      "\n",
      "    To run a simulation::\n",
      "\n",
      "        parameters = {\n",
      "            'my_parameter': 42,\n",
      "            'agents': 10,\n",
      "            'steps': 10  # Used automatically to define simulation length\n",
      "        }\n",
      "\n",
      "        model = MyModel(parameters)\n",
      "        results = model.run()\n",
      "\u001b[0;31mFile:\u001b[0m           ~/opt/anaconda3/envs/py39/lib/python3.9/site-packages/agentpy/model.py\n",
      "\u001b[0;31mType:\u001b[0m           type\n",
      "\u001b[0;31mSubclasses:\u001b[0m     MyModel"
     ]
    }
   ],
   "source": [
    "class VirusModel(ap.Model):\n",
    "\n",
    "    def setup(self):\n",
    "        \"\"\" Initialize the agents and network of the model. \"\"\"\n",
    "\n",
    "        # Prepare a small-world network\n",
    "        graph = nx.watts_strogatz_graph(\n",
    "            self.p.population,\n",
    "            self.p.number_of_neighbors,\n",
    "            self.p.network_randomness)\n",
    "\n",
    "        # Create agents and network\n",
    "        self.agents = ap.AgentList(self, self.p.population, Person)\n",
    "        self.network = self.agents.network = ap.Network(self, graph)\n",
    "        self.network.add_agents(self.agents, self.network.nodes)\n",
    "\n",
    "        # Infect a random share of the population\n",
    "        I0 = int(self.p.initial_infection_share * self.p.population)\n",
    "        self.agents.random(I0).condition = 1\n",
    "\n",
    "    def update(self):\n",
    "        \"\"\" Record variables after setup and each step. \"\"\"\n",
    "\n",
    "        # Record share of agents with each condition\n",
    "        for i, c in enumerate(('S', 'I', 'R')):\n",
    "            n_agents = len(self.agents.select(self.agents.condition == i))\n",
    "            self[c] = n_agents / self.p.population\n",
    "            self.record(c)\n",
    "\n",
    "        # Stop simulation if disease is gone\n",
    "        if self.I == 0:\n",
    "            self.stop()\n",
    "\n",
    "    def step(self):\n",
    "        \"\"\" Define the models' events per simulation step. \"\"\"\n",
    "\n",
    "        # Call 'being_sick' for infected agents\n",
    "        self.agents.select(self.agents.condition == 1).being_sick()\n",
    "\n",
    "    def end(self):\n",
    "        \"\"\" Record evaluation measures at the end of the simulation. \"\"\"\n",
    "\n",
    "        # Record final evaluation measures\n",
    "        self.report('Total share infected', self.I + self.R)\n",
    "        self.report('Peak share infected', max(self.log['I']))"
   ]
  },
  {
   "cell_type": "code",
   "execution_count": 23,
   "metadata": {},
   "outputs": [
    {
     "ename": "TypeError",
     "evalue": "_new_id() missing 1 required positional argument: 'self'",
     "output_type": "error",
     "traceback": [
      "\u001b[0;31m---------------------------------------------------------------------------\u001b[0m",
      "\u001b[0;31mTypeError\u001b[0m                                 Traceback (most recent call last)",
      "Cell \u001b[0;32mIn[23], line 2\u001b[0m\n\u001b[1;32m      1\u001b[0m model \u001b[39m=\u001b[39m MyModel()\n\u001b[0;32m----> 2\u001b[0m agent \u001b[39m=\u001b[39m Agent(MyModel,\u001b[39m0\u001b[39;49m,\u001b[39m1\u001b[39;49m,\u001b[39m1\u001b[39;49m)\n",
      "File \u001b[0;32m~/opt/anaconda3/envs/py39/lib/python3.9/site-packages/agentpy/agent.py:28\u001b[0m, in \u001b[0;36mAgent.__init__\u001b[0;34m(self, model, *args, **kwargs)\u001b[0m\n\u001b[1;32m     27\u001b[0m \u001b[39mdef\u001b[39;00m \u001b[39m__init__\u001b[39m(\u001b[39mself\u001b[39m, model, \u001b[39m*\u001b[39margs, \u001b[39m*\u001b[39m\u001b[39m*\u001b[39mkwargs):\n\u001b[0;32m---> 28\u001b[0m     \u001b[39msuper\u001b[39;49m()\u001b[39m.\u001b[39;49m\u001b[39m__init__\u001b[39;49m(model)\n\u001b[1;32m     29\u001b[0m     \u001b[39mself\u001b[39m\u001b[39m.\u001b[39msetup(\u001b[39m*\u001b[39margs, \u001b[39m*\u001b[39m\u001b[39m*\u001b[39mkwargs)\n",
      "File \u001b[0;32m~/opt/anaconda3/envs/py39/lib/python3.9/site-packages/agentpy/objects.py:16\u001b[0m, in \u001b[0;36mObject.__init__\u001b[0;34m(self, model)\u001b[0m\n\u001b[1;32m     13\u001b[0m \u001b[39mdef\u001b[39;00m \u001b[39m__init__\u001b[39m(\u001b[39mself\u001b[39m, model):\n\u001b[1;32m     14\u001b[0m     \u001b[39mself\u001b[39m\u001b[39m.\u001b[39m_var_ignore \u001b[39m=\u001b[39m []\n\u001b[0;32m---> 16\u001b[0m     \u001b[39mself\u001b[39m\u001b[39m.\u001b[39mid \u001b[39m=\u001b[39m model\u001b[39m.\u001b[39;49m_new_id()  \u001b[39m# Assign id to new object\u001b[39;00m\n\u001b[1;32m     17\u001b[0m     \u001b[39mself\u001b[39m\u001b[39m.\u001b[39mtype \u001b[39m=\u001b[39m \u001b[39mtype\u001b[39m(\u001b[39mself\u001b[39m)\u001b[39m.\u001b[39m\u001b[39m__name__\u001b[39m\n\u001b[1;32m     18\u001b[0m     \u001b[39mself\u001b[39m\u001b[39m.\u001b[39mlog \u001b[39m=\u001b[39m {}\n",
      "\u001b[0;31mTypeError\u001b[0m: _new_id() missing 1 required positional argument: 'self'"
     ]
    }
   ],
   "source": [
    "model = MyModel()\n",
    "agent = Agent(MyModel,0,1,1)"
   ]
  },
  {
   "cell_type": "code",
   "execution_count": 17,
   "metadata": {},
   "outputs": [],
   "source": [
    "class Agent(ap.Agent):\n",
    "    ''' Represents an agent in our small world '''\n",
    "    \n",
    "    def setup(self):\n",
    "        ''' Initialisation '''\n",
    "        self.x = 0\n",
    "        \n",
    "   # def becoming_positive(self):\n",
    "   #     ''' Agent has tested positive '''\n",
    "   #     self.condition = 1\n",
    "   #     self.mental_state =+ np.random.rand(1,1)\n",
    "   # return Agent(self.condition, self.age, self.mental_state)"
   ]
  },
  {
   "cell_type": "code",
   "execution_count": 18,
   "metadata": {},
   "outputs": [
    {
     "ename": "TypeError",
     "evalue": "__init__() missing 1 required positional argument: 'model'",
     "output_type": "error",
     "traceback": [
      "\u001b[0;31m---------------------------------------------------------------------------\u001b[0m",
      "\u001b[0;31mTypeError\u001b[0m                                 Traceback (most recent call last)",
      "Cell \u001b[0;32mIn[18], line 1\u001b[0m\n\u001b[0;32m----> 1\u001b[0m Agent()\n",
      "\u001b[0;31mTypeError\u001b[0m: __init__() missing 1 required positional argument: 'model'"
     ]
    }
   ],
   "source": [
    "Agent()"
   ]
  },
  {
   "cell_type": "code",
   "execution_count": null,
   "metadata": {},
   "outputs": [],
   "source": []
  }
 ],
 "metadata": {
  "kernelspec": {
   "display_name": "py39",
   "language": "python",
   "name": "python3"
  },
  "language_info": {
   "codemirror_mode": {
    "name": "ipython",
    "version": 3
   },
   "file_extension": ".py",
   "mimetype": "text/x-python",
   "name": "python",
   "nbconvert_exporter": "python",
   "pygments_lexer": "ipython3",
   "version": "3.9.16"
  },
  "orig_nbformat": 4,
  "vscode": {
   "interpreter": {
    "hash": "eab53f47a5991271b37a25f4d843b5ee35e6204ffc43d80f9b0bcdaa784de0c5"
   }
  }
 },
 "nbformat": 4,
 "nbformat_minor": 2
}
