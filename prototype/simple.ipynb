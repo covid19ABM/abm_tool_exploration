{
 "cells": [
  {
   "attachments": {},
   "cell_type": "markdown",
   "metadata": {},
   "source": [
    "## Playground for an ABM prototype"
   ]
  },
  {
   "cell_type": "code",
   "execution_count": 1,
   "metadata": {},
   "outputs": [],
   "source": [
    "import agent as ag\n",
    "import numpy as np\n",
    "# Model design\n",
    "import random\n",
    "\n",
    "# Visualization\n",
    "import matplotlib.pyplot as plt\n",
    "import seaborn as sns\n",
    "import IPython\n"
   ]
  },
  {
   "cell_type": "code",
   "execution_count": 2,
   "metadata": {},
   "outputs": [
    {
     "data": {
      "text/plain": [
       "(array([846.,   0.,   0.,   0.,   0.,  54.,   0.,   0.,   0., 100.]),\n",
       " array([0. , 0.2, 0.4, 0.6, 0.8, 1. , 1.2, 1.4, 1.6, 1.8, 2. ]),\n",
       " <BarContainer object of 10 artists>)"
      ]
     },
     "execution_count": 2,
     "metadata": {},
     "output_type": "execute_result"
    },
    {
     "data": {
      "image/png": "[encoded data removed]",
      "text/plain": [
       "<Figure size 640x480 with 1 Axes>"
      ]
     },
     "metadata": {},
     "output_type": "display_data"
    }
   ],
   "source": [
    "ad = ag.generate_employment_distribution(n_people = 1000, yes = .86, no_seeking=.055, no_other=.085)\n",
    "plt.hist(ad)"
   ]
  },
  {
   "cell_type": "code",
   "execution_count": null,
   "metadata": {},
   "outputs": [],
   "source": []
  },
  {
   "cell_type": "code",
   "execution_count": 9,
   "metadata": {},
   "outputs": [],
   "source": [
    "n_people = 100\n",
    "gd = ag.generate_gender_distribution(n_people=n_people, percentage=50)\n",
    "ad = ag.generate_age_distribution(n_people=n_people, n_age_groups=4, start=24, stop=65, prob=[.25, .23, .31, .21])\n",
    "ea = ag.generate_educational_attainment_distribution(n_people = n_people, low = .11, medium=.25, high=.64)\n",
    "ed = ag.generate_employment_distribution(n_people = n_people, yes = .86, no_seeking=.055, no_other=.085)\n",
    "people = []\n",
    "for i in range(n_people):\n",
    "    features = ag.Features(name = str(i),\n",
    "                        gender = gd[i], \n",
    "                        age = ad[i], \n",
    "                        education = ea[i], \n",
    "                        employed = ed[i], \n",
    "                        partnership_status = \"Single\", \n",
    "                        pre_existing_depression = \"False\", \n",
    "                        pre_existing_burnout = \"True\", \n",
    "                        pre_existing_addiction = \"True\", \n",
    "                        pre_existing_chronic_fatigue = \"False\", \n",
    "                        pre_existing_health_issues = \"True\", \n",
    "                        parenthood = \"True\", \n",
    "                        living_with_child = \"False\", \n",
    "                        single_parent = \"True\", \n",
    "                        housing_difficulties = \"False\", \n",
    "                        finance_difficulties = \"False\", \n",
    "                        partner_difficulties = \"False\")\n",
    "    people.append(ag.Agent(features=features))\n",
    "    \n",
    "    "
   ]
  },
  {
   "cell_type": "code",
   "execution_count": 10,
   "metadata": {},
   "outputs": [
    {
     "name": "stdout",
     "output_type": "stream",
     "text": [
      "name: 0\n",
      "gender: 0\n",
      "age: 45\n",
      "education: High\n",
      "employed: Yes\n",
      "partnership_status: Single\n",
      "pre_existing_depression: False\n",
      "pre_existing_burnout: True\n",
      "pre_existing_addiction: True\n",
      "pre_existing_chronic_fatigue: False\n",
      "parenthood: True\n",
      "living_with_child: False\n",
      "single_parent: True\n",
      "housing_difficulties: False\n",
      "finance_difficulties: False\n",
      "pre_existing_health_issues: True\n",
      "partner_difficulties: False\n",
      "n_contacts: 0\n"
     ]
    }
   ],
   "source": [
    "people[0].summary()"
   ]
  },
  {
   "cell_type": "code",
   "execution_count": 11,
   "metadata": {},
   "outputs": [
    {
     "name": "stdout",
     "output_type": "stream",
     "text": [
      "name:0, gender:0, age: 45, education: High, employment: Yes\n",
      "name:1, gender:1, age: 25, education: Medium, employment: No, seeking employment\n",
      "name:2, gender:0, age: 28, education: High, employment: Yes\n",
      "name:3, gender:1, age: 53, education: High, employment: No, other\n",
      "name:4, gender:0, age: 32, education: High, employment: Yes\n",
      "name:5, gender:1, age: 57, education: Low, employment: Yes\n",
      "name:6, gender:1, age: 24, education: High, employment: Yes\n",
      "name:7, gender:1, age: 58, education: High, employment: Yes\n",
      "name:8, gender:0, age: 49, education: High, employment: Yes\n",
      "name:9, gender:1, age: 40, education: High, employment: Yes\n",
      "name:10, gender:0, age: 33, education: High, employment: Yes\n",
      "name:11, gender:0, age: 56, education: Low, employment: Yes\n",
      "name:12, gender:0, age: 52, education: Medium, employment: Yes\n",
      "name:13, gender:1, age: 42, education: High, employment: Yes\n",
      "name:14, gender:0, age: 47, education: Medium, employment: Yes\n",
      "name:15, gender:0, age: 26, education: Medium, employment: Yes\n",
      "name:16, gender:0, age: 63, education: Low, employment: Yes\n",
      "name:17, gender:1, age: 43, education: Medium, employment: Yes\n",
      "name:18, gender:0, age: 64, education: High, employment: Yes\n",
      "name:19, gender:1, age: 33, education: High, employment: Yes\n",
      "name:20, gender:1, age: 60, education: High, employment: Yes\n",
      "name:21, gender:0, age: 49, education: High, employment: Yes\n",
      "name:22, gender:0, age: 60, education: High, employment: No, seeking employment\n",
      "name:23, gender:1, age: 36, education: Medium, employment: Yes\n",
      "name:24, gender:0, age: 54, education: High, employment: Yes\n",
      "name:25, gender:1, age: 51, education: Low, employment: Yes\n",
      "name:26, gender:1, age: 43, education: High, employment: Yes\n",
      "name:27, gender:1, age: 44, education: High, employment: Yes\n",
      "name:28, gender:1, age: 57, education: High, employment: Yes\n",
      "name:29, gender:0, age: 27, education: Medium, employment: Yes\n",
      "name:30, gender:1, age: 39, education: Medium, employment: Yes\n",
      "name:31, gender:1, age: 39, education: High, employment: No, seeking employment\n",
      "name:32, gender:1, age: 35, education: High, employment: Yes\n",
      "name:33, gender:1, age: 47, education: Medium, employment: Yes\n",
      "name:34, gender:0, age: 62, education: Medium, employment: Yes\n",
      "name:35, gender:0, age: 25, education: High, employment: No, seeking employment\n",
      "name:36, gender:1, age: 61, education: High, employment: Yes\n",
      "name:37, gender:0, age: 50, education: High, employment: No, seeking employment\n",
      "name:38, gender:0, age: 37, education: High, employment: Yes\n",
      "name:39, gender:1, age: 33, education: High, employment: Yes\n",
      "name:40, gender:0, age: 26, education: High, employment: Yes\n",
      "name:41, gender:1, age: 49, education: Medium, employment: Yes\n",
      "name:42, gender:0, age: 60, education: High, employment: Yes\n",
      "name:43, gender:0, age: 24, education: Medium, employment: No, seeking employment\n",
      "name:44, gender:0, age: 28, education: Medium, employment: No, other\n",
      "name:45, gender:1, age: 63, education: Medium, employment: Yes\n",
      "name:46, gender:1, age: 52, education: High, employment: Yes\n",
      "name:47, gender:0, age: 54, education: High, employment: Yes\n",
      "name:48, gender:1, age: 54, education: High, employment: Yes\n",
      "name:49, gender:1, age: 39, education: Medium, employment: No, other\n",
      "name:50, gender:1, age: 47, education: High, employment: Yes\n",
      "name:51, gender:1, age: 48, education: High, employment: Yes\n",
      "name:52, gender:0, age: 58, education: High, employment: Yes\n",
      "name:53, gender:0, age: 55, education: Low, employment: No, other\n",
      "name:54, gender:0, age: 52, education: High, employment: Yes\n",
      "name:55, gender:0, age: 34, education: High, employment: Yes\n",
      "name:56, gender:0, age: 46, education: Low, employment: Yes\n",
      "name:57, gender:0, age: 60, education: High, employment: Yes\n",
      "name:58, gender:1, age: 52, education: Medium, employment: No, other\n",
      "name:59, gender:0, age: 64, education: Low, employment: No, seeking employment\n",
      "name:60, gender:1, age: 56, education: High, employment: Yes\n",
      "name:61, gender:1, age: 51, education: High, employment: Yes\n",
      "name:62, gender:1, age: 37, education: Low, employment: Yes\n",
      "name:63, gender:0, age: 37, education: High, employment: Yes\n",
      "name:64, gender:1, age: 52, education: Medium, employment: Yes\n",
      "name:65, gender:1, age: 39, education: High, employment: Yes\n",
      "name:66, gender:1, age: 60, education: High, employment: Yes\n",
      "name:67, gender:1, age: 62, education: High, employment: Yes\n",
      "name:68, gender:0, age: 26, education: High, employment: No, other\n",
      "name:69, gender:1, age: 46, education: Low, employment: Yes\n",
      "name:70, gender:1, age: 49, education: High, employment: Yes\n",
      "name:71, gender:1, age: 50, education: High, employment: Yes\n",
      "name:72, gender:1, age: 33, education: High, employment: Yes\n",
      "name:73, gender:1, age: 53, education: Medium, employment: Yes\n",
      "name:74, gender:0, age: 60, education: High, employment: Yes\n",
      "name:75, gender:0, age: 44, education: High, employment: Yes\n",
      "name:76, gender:1, age: 31, education: High, employment: No, other\n",
      "name:77, gender:0, age: 36, education: Medium, employment: Yes\n",
      "name:78, gender:1, age: 50, education: High, employment: Yes\n",
      "name:79, gender:1, age: 39, education: High, employment: Yes\n",
      "name:80, gender:0, age: 46, education: Low, employment: Yes\n",
      "name:81, gender:0, age: 44, education: High, employment: Yes\n",
      "name:82, gender:0, age: 25, education: Medium, employment: No, other\n",
      "name:83, gender:1, age: 42, education: High, employment: Yes\n",
      "name:84, gender:0, age: 61, education: High, employment: Yes\n",
      "name:85, gender:0, age: 57, education: Medium, employment: No, other\n",
      "name:86, gender:1, age: 62, education: Medium, employment: Yes\n",
      "name:87, gender:0, age: 30, education: High, employment: Yes\n",
      "name:88, gender:1, age: 42, education: High, employment: Yes\n",
      "name:89, gender:1, age: 30, education: Medium, employment: No, seeking employment\n",
      "name:90, gender:0, age: 36, education: High, employment: Yes\n",
      "name:91, gender:0, age: 43, education: Medium, employment: Yes\n",
      "name:92, gender:0, age: 46, education: High, employment: Yes\n",
      "name:93, gender:0, age: 47, education: High, employment: No, other\n",
      "name:94, gender:0, age: 54, education: High, employment: Yes\n",
      "name:95, gender:0, age: 53, education: Medium, employment: Yes\n",
      "name:96, gender:1, age: 32, education: High, employment: Yes\n",
      "name:97, gender:1, age: 36, education: High, employment: Yes\n",
      "name:98, gender:0, age: 44, education: Medium, employment: Yes\n",
      "name:99, gender:0, age: 57, education: High, employment: Yes\n"
     ]
    }
   ],
   "source": [
    "for p in people:\n",
    "    print(f'name:{p.features.name}, gender:{p.features.gender}, age: {p.features.age}, education: {p.features.education}, employment: {p.features.employed}')\n"
   ]
  },
  {
   "cell_type": "code",
   "execution_count": null,
   "metadata": {},
   "outputs": [],
   "source": [
    "@dataclass\n",
    "class Lockdown():\n",
    "    ''' Represents the type of lockdown'''\n",
    "    __slots__ = ['name', 'frequency', 'length', 'severity']\n",
    "    \n",
    "    name: str\n",
    "    frequency: float\n",
    "    start: float\n",
    "    end: float\n",
    "    severity: int    "
   ]
  },
  {
   "cell_type": "code",
   "execution_count": 12,
   "metadata": {},
   "outputs": [],
   "source": [
    "person1 = Agent(\"a\",\"F\", 18, \"low\", \"True\", \"Single\", \"False\", \"True\", \"True\", \"False\", \"True\", \"True\", \"False\", \"True\", \"False\", \"False\", \"False\")\n"
   ]
  },
  {
   "cell_type": "code",
   "execution_count": 6,
   "metadata": {},
   "outputs": [
    {
     "data": {
      "text/plain": [
       "18"
      ]
     },
     "execution_count": 6,
     "metadata": {},
     "output_type": "execute_result"
    }
   ],
   "source": [
    "person.age"
   ]
  },
  {
   "cell_type": "code",
   "execution_count": 53,
   "metadata": {},
   "outputs": [],
   "source": [
    "\n",
    "class Agent():\n",
    "    ''' Represents an agent in our small world '''\n",
    "    \n",
    "    def __init__(self, condition, age, mental_state):\n",
    "        ''' Initialisation '''\n",
    "        self.condition = condition\n",
    "        self.age = age\n",
    "        self.mental_state = mental_state    \n",
    "   \n",
    "    def becoming_positive(self):\n",
    "        ''' Agent has tested positive '''\n",
    "        self.condition = 1\n",
    "        self.mental_state =+ np.random.rand()\n",
    "    \n",
    "    def working_from_home(self):\n",
    "        ''' Agent is working from home '''\n",
    "        self.mental_state =+ np.random.rand()\n",
    "    \n",
    "   \n",
    "class Simulation():\n",
    "    def __init__(self,n_people,n_steps,p):\n",
    "        conditions = np.random.randint(2,size=n_people)\n",
    "        ages = np.random.choice(np.arange(18,60),size=n_people)\n",
    "        mental_states = np.random.randint(2,size=n_people)\n",
    "        \n",
    "        self.agents = []\n",
    "        for i in range(n_people):\n",
    "            self.agents.append(Agent(condition=0,#conditions[i],\n",
    "                                     age=ages[i],\n",
    "                                     mental_state=mental_states[i]))\n",
    "        self.n_steps = n_steps\n",
    "        self.n_people = n_people\n",
    "        self.p = p\n",
    "        \n",
    "    def update(self,p):\n",
    "        infected = np.random.choice(np.arange(self.n_people),size=int(p*self.n_people))\n",
    "        for i in infected:\n",
    "            self.agents[i].becoming_positive()\n",
    "            \n",
    "    def monitor_mh_average(self):\n",
    "        mh = [i.mental_state for i in self.agents]\n",
    "        \n",
    "        return np.mean(mh)\n",
    "        \n",
    "        \n",
    "    def run(self):\n",
    "        avg_mh = np.zeros(self.n_steps)\n",
    "        for step in range(self.n_steps):\n",
    "            self.update(self.p)\n",
    "            avg_mh[step] = self.monitor_mh_average()\n",
    "            \n",
    "        return avg_mh\n",
    "            \n",
    "            \n",
    "        \n",
    "            \n",
    "    \n",
    "    \n",
    "        \n",
    "        \n",
    "        \n"
   ]
  },
  {
   "cell_type": "code",
   "execution_count": 56,
   "metadata": {},
   "outputs": [],
   "source": [
    "model = Simulation(n_people=1000,\n",
    "                   n_steps=50,\n",
    "                   p=0.1)\n",
    "\n",
    "mh = model.run()"
   ]
  },
  {
   "cell_type": "code",
   "execution_count": 57,
   "metadata": {},
   "outputs": [
    {
     "data": {
      "text/plain": [
       "[<matplotlib.lines.Line2D at 0x143811ee0>]"
      ]
     },
     "execution_count": 57,
     "metadata": {},
     "output_type": "execute_result"
    },
    {
     "data": {
      "image/png": "[encoded data removed]",
      "text/plain": [
       "<Figure size 640x480 with 1 Axes>"
      ]
     },
     "metadata": {},
     "output_type": "display_data"
    }
   ],
   "source": [
    "plt.plot(mh)"
   ]
  },
  {
   "cell_type": "code",
   "execution_count": 24,
   "metadata": {},
   "outputs": [
    {
     "name": "stdout",
     "output_type": "stream",
     "text": [
      "\u001b[0;31mInit signature:\u001b[0m \u001b[0map\u001b[0m\u001b[0;34m.\u001b[0m\u001b[0mModel\u001b[0m\u001b[0;34m(\u001b[0m\u001b[0mparameters\u001b[0m\u001b[0;34m=\u001b[0m\u001b[0;32mNone\u001b[0m\u001b[0;34m,\u001b[0m \u001b[0m_run_id\u001b[0m\u001b[0;34m=\u001b[0m\u001b[0;32mNone\u001b[0m\u001b[0;34m,\u001b[0m \u001b[0;34m**\u001b[0m\u001b[0mkwargs\u001b[0m\u001b[0;34m)\u001b[0m\u001b[0;34m\u001b[0m\u001b[0;34m\u001b[0m\u001b[0m\n",
      "\u001b[0;31mDocstring:\u001b[0m     \n",
      "Template of an agent-based model.\n",
      "\n",
      "Arguments:\n",
      "    parameters (dict, optional):\n",
      "        Dictionary of the model's parameters.\n",
      "        Default values will be selected from entries of type\n",
      "        :class:`Range`, :class:`IntRange`, and :class:`Values`.\n",
      "        The following parameters will be used automatically:\n",
      "\n",
      "        - steps (int, optional):\n",
      "          Defines the maximum number of time-steps.\n",
      "          If none is passed, there will be no step limit.\n",
      "        - seed (int, optional):\n",
      "          Used to initiate the model's random number generators.\n",
      "          If none is passed, a random seed will be generated.\n",
      "        - report_seed (bool, optional):\n",
      "          Whether to document the random seed used (default True).\n",
      "\n",
      "    **kwargs: Will be forwarded to :func:`Model.setup`.\n",
      "\n",
      "Attributes:\n",
      "    type (str): The model's class name.\n",
      "    info (InfoStr): Information about the model's current state.\n",
      "    p (AttrDict): The model's parameters.\n",
      "    t (int): Current time-step of the model.\n",
      "    id (int): The model's object id, which will always be zero.\n",
      "    random (random.Random): Random number generator.\n",
      "    nprandom (numpy.random.Generator): Numpy random number generator.\n",
      "    var_keys (list): Names of the model's custom variables.\n",
      "    running (bool): Indicates whether the model is currently running.\n",
      "    log (dict): The model's recorded variables.\n",
      "    reporters (dict): The model's documented reporters.\n",
      "    output (DataDict): Output data after a completed simulation.\n",
      "\n",
      "Examples:\n",
      "\n",
      "    To define a custom model with a custom agent type::\n",
      "\n",
      "        class MyAgent(ap.Agent):\n",
      "\n",
      "            def setup(self):\n",
      "                # Initialize an attribute with a parameter\n",
      "                self.my_attribute = self.p.my_parameter\n",
      "\n",
      "            def agent_method(self):\n",
      "                # Define custom actions here\n",
      "                pass\n",
      "\n",
      "        class MyModel(ap.Model):\n",
      "\n",
      "            def setup(self):\n",
      "                # Called at the start of the simulation\n",
      "                self.agents = ap.AgentList(self, self.p.agents, MyAgent)\n",
      "\n",
      "            def step(self):\n",
      "                # Called at every simulation step\n",
      "                self.agents.agent_method()  # Call a method for every agent\n",
      "\n",
      "            def update(self):\n",
      "                # Called after setup as well as after each step\n",
      "                self.agents.record('my_attribute')  # Record variable\n",
      "\n",
      "            def end(self):\n",
      "                # Called at the end of the simulation\n",
      "                self.report('my_reporter', 1)  # Report a simulation result\n",
      "\n",
      "    To run a simulation::\n",
      "\n",
      "        parameters = {\n",
      "            'my_parameter': 42,\n",
      "            'agents': 10,\n",
      "            'steps': 10  # Used automatically to define simulation length\n",
      "        }\n",
      "\n",
      "        model = MyModel(parameters)\n",
      "        results = model.run()\n",
      "\u001b[0;31mFile:\u001b[0m           ~/opt/anaconda3/envs/py39/lib/python3.9/site-packages/agentpy/model.py\n",
      "\u001b[0;31mType:\u001b[0m           type\n",
      "\u001b[0;31mSubclasses:\u001b[0m     MyModel"
     ]
    }
   ],
   "source": [
    "class VirusModel(ap.Model):\n",
    "\n",
    "    def setup(self):\n",
    "        \"\"\" Initialize the agents and network of the model. \"\"\"\n",
    "\n",
    "        # Prepare a small-world network\n",
    "        graph = nx.watts_strogatz_graph(\n",
    "            self.p.population,\n",
    "            self.p.number_of_neighbors,\n",
    "            self.p.network_randomness)\n",
    "\n",
    "        # Create agents and network\n",
    "        self.agents = ap.AgentList(self, self.p.population, Person)\n",
    "        self.network = self.agents.network = ap.Network(self, graph)\n",
    "        self.network.add_agents(self.agents, self.network.nodes)\n",
    "\n",
    "        # Infect a random share of the population\n",
    "        I0 = int(self.p.initial_infection_share * self.p.population)\n",
    "        self.agents.random(I0).condition = 1\n",
    "\n",
    "    def update(self):\n",
    "        \"\"\" Record variables after setup and each step. \"\"\"\n",
    "\n",
    "        # Record share of agents with each condition\n",
    "        for i, c in enumerate(('S', 'I', 'R')):\n",
    "            n_agents = len(self.agents.select(self.agents.condition == i))\n",
    "            self[c] = n_agents / self.p.population\n",
    "            self.record(c)\n",
    "\n",
    "        # Stop simulation if disease is gone\n",
    "        if self.I == 0:\n",
    "            self.stop()\n",
    "\n",
    "    def step(self):\n",
    "        \"\"\" Define the models' events per simulation step. \"\"\"\n",
    "\n",
    "        # Call 'being_sick' for infected agents\n",
    "        self.agents.select(self.agents.condition == 1).being_sick()\n",
    "\n",
    "    def end(self):\n",
    "        \"\"\" Record evaluation measures at the end of the simulation. \"\"\"\n",
    "\n",
    "        # Record final evaluation measures\n",
    "        self.report('Total share infected', self.I + self.R)\n",
    "        self.report('Peak share infected', max(self.log['I']))"
   ]
  },
  {
   "cell_type": "code",
   "execution_count": null,
   "metadata": {},
   "outputs": [],
   "source": []
  }
 ],
 "metadata": {
  "kernelspec": {
   "display_name": "py39",
   "language": "python",
   "name": "python3"
  },
  "language_info": {
   "codemirror_mode": {
    "name": "ipython",
    "version": 3
   },
   "file_extension": ".py",
   "mimetype": "text/x-python",
   "name": "python",
   "nbconvert_exporter": "python",
   "pygments_lexer": "ipython3",
   "version": "3.9.16"
  },
  "orig_nbformat": 4,
  "vscode": {
   "interpreter": {
    "hash": "eab53f47a5991271b37a25f4d843b5ee35e6204ffc43d80f9b0bcdaa784de0c5"
   }
  }
 },
 "nbformat": 4,
 "nbformat_minor": 2
}
